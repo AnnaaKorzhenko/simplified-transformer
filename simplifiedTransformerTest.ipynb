{
 "cells": [
  {
   "cell_type": "markdown",
   "id": "98694dba",
   "metadata": {},
   "source": [
    "\n",
    "# Simplified Transformer\n"
   ]
  },
  {
   "cell_type": "code",
   "execution_count": 17,
   "id": "0d327994",
   "metadata": {},
   "outputs": [
    {
     "name": "stdout",
     "output_type": "stream",
     "text": [
      "[[4 0 0 4]\n",
      " [0 0 0 0]\n",
      " [0 4 0 0]\n",
      " [4 0 0 4]]\n",
      "[[1 0 0 0]\n",
      " [1 0 0 0]\n",
      " [0 1 0 0]\n",
      " [1 0 0 0]]\n",
      "[[0 1 0]\n",
      " [0 0 1]\n",
      " [4 1 0]\n",
      " [0 1 0]]\n",
      "False\n"
     ]
    }
   ],
   "source": [
    "\n",
    "import numpy as np\n",
    "\n",
    "def relu(matrix):\n",
    "    return np.maximum(0, matrix)\n",
    "\n",
    "def leftmost_unique_hard_attention(matrix):\n",
    "     \n",
    "    n_rows, n_cols = matrix.shape\n",
    "    attention = np.zeros_like(matrix)\n",
    "    for row_idx in range(n_rows):\n",
    "        row_scores = matrix[row_idx]\n",
    "        max_score = np.max(row_scores)\n",
    "\n",
    "        max_indices = np.where(row_scores == max_score)[0]\n",
    "        \n",
    "        if len(max_indices) > 0:\n",
    "            # Select the left-most one\n",
    "            selected_col = max_indices[0]\n",
    "            attention[row_idx, selected_col] = 1\n",
    "    \n",
    "    return attention\n",
    "    \n",
    "# Define X0: abbc\n",
    "X0 = np.array([[0,0,1],\n",
    "              [0,1,0],\n",
    "              [0,1,0],\n",
    "              [1,0,0]])\n",
    "\n",
    "# Define X0: bacb\n",
    "X0 = np.array([[0,1,0],\n",
    "              [0,0,1],\n",
    "              [1,0,0],\n",
    "              [0,1,0]])\n",
    "\n",
    "# Define matrices Q, K, V, O\n",
    "Q = np.array([[2, 0],\n",
    "              [0, 2],\n",
    "             [0, 0]])\n",
    "\n",
    "K = np.array([[0, 0],\n",
    "              [0, 2],\n",
    "             [2, 0]])\n",
    "\n",
    "V = np.array([[1, 0],\n",
    "              [0, 0],\n",
    "             [0, 1]])\n",
    "\n",
    "O = np.array([[2, 2, 2],\n",
    "              [3, 1, 0]])\n",
    "\n",
    "result = (X0 @ Q) @ (X0 @ K).T\n",
    "print(result)\n",
    "A=leftmost_unique_hard_attention(result)\n",
    "print(A)\n",
    "\n",
    "#Calculate X1\n",
    "X1 = relu( A @ X0 @ V @ O) + X0\n",
    "print(X1) \n",
    "\n",
    "#threshold \n",
    "t=1\n",
    "n_rows, n_cols = X1.shape\n",
    "if X1[n_rows-1][0] >= t:\n",
    "    print(\"True\")\n",
    "else:    \n",
    "    print(\"False\")"
   ]
  }
 ],
 "metadata": {
  "kernelspec": {
   "display_name": "Python 3 (ipykernel)",
   "language": "python",
   "name": "python3"
  },
  "language_info": {
   "codemirror_mode": {
    "name": "ipython",
    "version": 3
   },
   "file_extension": ".py",
   "mimetype": "text/x-python",
   "name": "python",
   "nbconvert_exporter": "python",
   "pygments_lexer": "ipython3",
   "version": "3.11.7"
  }
 },
 "nbformat": 4,
 "nbformat_minor": 5
}
